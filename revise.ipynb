{
  "nbformat": 4,
  "nbformat_minor": 0,
  "metadata": {
    "colab": {
      "provenance": [],
      "toc_visible": true
    },
    "kernelspec": {
      "name": "python3",
      "display_name": "Python 3"
    },
    "language_info": {
      "name": "python"
    }
  },
  "cells": [
    {
      "cell_type": "code",
      "execution_count": null,
      "metadata": {
        "colab": {
          "base_uri": "https://localhost:8080/"
        },
        "id": "5UlUJLzCABAN",
        "outputId": "3fc49927-4812-4b70-881d-36f10cadeefd"
      },
      "outputs": [
        {
          "output_type": "stream",
          "name": "stdout",
          "text": [
            "nikhil\n"
          ]
        }
      ],
      "source": [
        "s=\"nikhil\"\n",
        "print(s)"
      ]
    },
    {
      "cell_type": "code",
      "source": [
        "s[0] = 'a'"
      ],
      "metadata": {
        "colab": {
          "base_uri": "https://localhost:8080/",
          "height": 141
        },
        "id": "phCHN8DDAMQo",
        "outputId": "a0c89ae7-f31e-4bd8-dae7-188bcbd9d7f7"
      },
      "execution_count": null,
      "outputs": [
        {
          "output_type": "error",
          "ename": "TypeError",
          "evalue": "'str' object does not support item assignment",
          "traceback": [
            "\u001b[0;31m---------------------------------------------------------------------------\u001b[0m",
            "\u001b[0;31mTypeError\u001b[0m                                 Traceback (most recent call last)",
            "\u001b[0;32m<ipython-input-6-640fc9a3a8b2>\u001b[0m in \u001b[0;36m<cell line: 1>\u001b[0;34m()\u001b[0m\n\u001b[0;32m----> 1\u001b[0;31m \u001b[0ms\u001b[0m\u001b[0;34m[\u001b[0m\u001b[0;36m0\u001b[0m\u001b[0;34m]\u001b[0m \u001b[0;34m=\u001b[0m \u001b[0;34m'a'\u001b[0m\u001b[0;34m\u001b[0m\u001b[0;34m\u001b[0m\u001b[0m\n\u001b[0m",
            "\u001b[0;31mTypeError\u001b[0m: 'str' object does not support item assignment"
          ]
        }
      ]
    },
    {
      "cell_type": "code",
      "source": [
        "l1=[\"nikhil\",\"34\",\"34\",\"67\",\"12\"]\n",
        "print(l1)"
      ],
      "metadata": {
        "colab": {
          "base_uri": "https://localhost:8080/"
        },
        "id": "87JLLYNAAS-k",
        "outputId": "82b589aa-08aa-425f-c1cc-3d0b3f5e0547"
      },
      "execution_count": null,
      "outputs": [
        {
          "output_type": "stream",
          "name": "stdout",
          "text": [
            "['nikhil', '34', '34', '67', '12']\n"
          ]
        }
      ]
    },
    {
      "cell_type": "code",
      "source": [
        "l1[3]=\"sachan\""
      ],
      "metadata": {
        "id": "0PVGaPi1Apck"
      },
      "execution_count": null,
      "outputs": []
    },
    {
      "cell_type": "code",
      "source": [
        "l1"
      ],
      "metadata": {
        "colab": {
          "base_uri": "https://localhost:8080/"
        },
        "id": "-8M0lr9yAt96",
        "outputId": "51f93d37-4eae-4583-c54b-8eb01dd675c1"
      },
      "execution_count": null,
      "outputs": [
        {
          "output_type": "execute_result",
          "data": {
            "text/plain": [
              "['nikhil', '34', '34', 'sachan', '12']"
            ]
          },
          "metadata": {},
          "execution_count": 9
        }
      ]
    },
    {
      "cell_type": "code",
      "source": [
        "# TUPLES"
      ],
      "metadata": {
        "id": "zHyleIabBLgp"
      },
      "execution_count": null,
      "outputs": []
    },
    {
      "cell_type": "code",
      "source": [
        "t={2,3,4,5,\"sachan\",\"method\"}"
      ],
      "metadata": {
        "id": "QRpm14TgAv7K"
      },
      "execution_count": null,
      "outputs": []
    },
    {
      "cell_type": "code",
      "source": [
        "type(t)"
      ],
      "metadata": {
        "colab": {
          "base_uri": "https://localhost:8080/"
        },
        "id": "6V37gQKkBS9l",
        "outputId": "c32133e9-04b6-4832-8634-b08c8b732196"
      },
      "execution_count": null,
      "outputs": [
        {
          "output_type": "execute_result",
          "data": {
            "text/plain": [
              "set"
            ]
          },
          "metadata": {},
          "execution_count": 13
        }
      ]
    },
    {
      "cell_type": "code",
      "source": [
        "s1={\"nikhil\",2,3,5,7,12,89,\"saachan\"}\n",
        "print(s1)"
      ],
      "metadata": {
        "colab": {
          "base_uri": "https://localhost:8080/"
        },
        "id": "Y8Q9PmjmBTvE",
        "outputId": "a11431c0-57df-41d2-e0c8-7f7c43de5b96"
      },
      "execution_count": null,
      "outputs": [
        {
          "output_type": "stream",
          "name": "stdout",
          "text": [
            "{2, 3, 5, 7, 12, 'nikhil', 'saachan', 89}\n"
          ]
        }
      ]
    },
    {
      "cell_type": "code",
      "source": [
        "l2=set(s1)\n",
        "print(l2)"
      ],
      "metadata": {
        "colab": {
          "base_uri": "https://localhost:8080/"
        },
        "id": "JExh8uULFGaZ",
        "outputId": "6c013d44-87b4-47a0-9028-795ccd5dcf3d"
      },
      "execution_count": null,
      "outputs": [
        {
          "output_type": "stream",
          "name": "stdout",
          "text": [
            "{2, 3, 5, 7, 12, 'nikhil', 'saachan', 89}\n"
          ]
        }
      ]
    },
    {
      "cell_type": "code",
      "source": [
        "a={\"key\":\"value\"}\n",
        "print(a)\n"
      ],
      "metadata": {
        "id": "FL8Owi7UFSst",
        "colab": {
          "base_uri": "https://localhost:8080/"
        },
        "outputId": "6ff467ee-e55a-4769-d243-49f08e7c5588"
      },
      "execution_count": null,
      "outputs": [
        {
          "output_type": "stream",
          "name": "stdout",
          "text": [
            "{'key': 'value'}\n"
          ]
        }
      ]
    },
    {
      "cell_type": "code",
      "source": [
        "a1={2312:\"value\"}\n",
        "print(a1)"
      ],
      "metadata": {
        "colab": {
          "base_uri": "https://localhost:8080/"
        },
        "id": "FxSTs7XAtHdy",
        "outputId": "c2a3c3b8-9fa0-4d6b-97f1-7d079f749fcd"
      },
      "execution_count": null,
      "outputs": [
        {
          "output_type": "stream",
          "name": "stdout",
          "text": [
            "{2312: 'value'}\n"
          ]
        }
      ]
    },
    {
      "cell_type": "code",
      "source": [
        "d3={\"name\":\"nikhil\",\"lastname\":\"sachan\",\"course\":[\"wev dev\",\"data science\",\"dsa\",\"systemdesign\"]}\n",
        "print(d3)"
      ],
      "metadata": {
        "colab": {
          "base_uri": "https://localhost:8080/"
        },
        "id": "_E33gYZetuId",
        "outputId": "b869938b-dd97-4b14-d3e8-b1848978931c"
      },
      "execution_count": null,
      "outputs": [
        {
          "output_type": "stream",
          "name": "stdout",
          "text": [
            "{'name': 'nikhil', 'lastname': 'sachan', 'course': ['wev dev', 'data science', 'dsa', 'systemdesign']}\n"
          ]
        }
      ]
    },
    {
      "cell_type": "code",
      "source": [
        "d3[\"name\"]"
      ],
      "metadata": {
        "colab": {
          "base_uri": "https://localhost:8080/",
          "height": 35
        },
        "id": "4j-db8dOu4jz",
        "outputId": "788e1109-24bf-4595-bc09-aa3d3e633161"
      },
      "execution_count": null,
      "outputs": [
        {
          "output_type": "execute_result",
          "data": {
            "text/plain": [
              "'nikhil'"
            ],
            "application/vnd.google.colaboratory.intrinsic+json": {
              "type": "string"
            }
          },
          "metadata": {},
          "execution_count": 13
        }
      ]
    },
    {
      "cell_type": "code",
      "source": [
        "d3[\"course\"][3]"
      ],
      "metadata": {
        "colab": {
          "base_uri": "https://localhost:8080/",
          "height": 35
        },
        "id": "DkLGErBtyJ7X",
        "outputId": "30496615-40d2-410a-b8f9-707f071346c6"
      },
      "execution_count": null,
      "outputs": [
        {
          "output_type": "execute_result",
          "data": {
            "text/plain": [
              "'systemdesign'"
            ],
            "application/vnd.google.colaboratory.intrinsic+json": {
              "type": "string"
            }
          },
          "metadata": {},
          "execution_count": 19
        }
      ]
    },
    {
      "cell_type": "code",
      "source": [
        "d6={\"number\":[2,3,4,5,6],\"course\":(7,6,5,4,3,2,1),\"date\":{\"web dev01\":\"by hritikek\",\"web dev02\":\"by harry\",\"web dev03\":\"by apana college\"}}"
      ],
      "metadata": {
        "id": "Ui3iC-Hrydkr"
      },
      "execution_count": null,
      "outputs": []
    },
    {
      "cell_type": "code",
      "source": [
        "d6[\"number\"]\n",
        "d6[\"course\"]\n",
        "d6[\"date\"][\"web dev\"]"
      ],
      "metadata": {
        "colab": {
          "base_uri": "https://localhost:8080/",
          "height": 35
        },
        "id": "MHhpNHp6G44d",
        "outputId": "7f90bb1c-a3b5-40e0-b3a4-2b0889c3294d"
      },
      "execution_count": null,
      "outputs": [
        {
          "output_type": "execute_result",
          "data": {
            "text/plain": [
              "'by apana college'"
            ],
            "application/vnd.google.colaboratory.intrinsic+json": {
              "type": "string"
            }
          },
          "metadata": {},
          "execution_count": 9
        }
      ]
    },
    {
      "cell_type": "code",
      "source": [
        "d6[\"mentor\"]=[\"nikhil\",\"sachan\",\"nachiket\",\"singh\"]\n",
        "d6"
      ],
      "metadata": {
        "colab": {
          "base_uri": "https://localhost:8080/"
        },
        "id": "USYCF9DlHCQP",
        "outputId": "af20e23d-6adb-41e5-85b5-f36344ec8b25"
      },
      "execution_count": null,
      "outputs": [
        {
          "output_type": "execute_result",
          "data": {
            "text/plain": [
              "{'number': [2, 3, 4, 5, 6],\n",
              " 'course': (7, 6, 5, 4, 3, 2, 1),\n",
              " 'date': {'web dev01': 'by hritikek',\n",
              "  'web dev02': 'by harry',\n",
              "  'web dev03': 'by apana college'},\n",
              " 'mentor': ['nikhil', 'sachan', 'nachiket', 'singh']}"
            ]
          },
          "metadata": {},
          "execution_count": 11
        }
      ]
    },
    {
      "cell_type": "code",
      "source": [
        "d6.keys()"
      ],
      "metadata": {
        "colab": {
          "base_uri": "https://localhost:8080/"
        },
        "id": "KqUBAg55IElK",
        "outputId": "aef95ecf-629b-4b6b-e23e-4b96fe3dc942"
      },
      "execution_count": null,
      "outputs": [
        {
          "output_type": "execute_result",
          "data": {
            "text/plain": [
              "dict_keys(['number', 'course', 'date', 'mentor'])"
            ]
          },
          "metadata": {},
          "execution_count": 12
        }
      ]
    },
    {
      "cell_type": "code",
      "source": [
        "marks=int(input(\"enter your number:- \"))\n",
        "if(marks>=80):\n",
        "    print(\"welcome come to a Alpha batch \")\n",
        "elif(marks>=70):\n",
        "    print(\"welcome to the batch a1 \")\n",
        "elif(marks>=60):\n",
        "    print(\"welcome to the batch a2\")\n",
        "else:\n",
        "    print(\"welcome to the batch a3 \")\n"
      ],
      "metadata": {
        "colab": {
          "base_uri": "https://localhost:8080/"
        },
        "id": "OjGKpOhZIvaL",
        "outputId": "7204a085-24cd-4e19-f12a-93aa83740757"
      },
      "execution_count": null,
      "outputs": [
        {
          "output_type": "stream",
          "name": "stdout",
          "text": [
            "enter your number:- 79\n",
            "welcome to the batch a2 \n"
          ]
        }
      ]
    },
    {
      "cell_type": "code",
      "source": [
        "marks=int(input(\"enter your marks:-\"))\n",
        "if(marks>=80):\n",
        "    print(\"you are the alphs student\")\n",
        "elif(marks>=60) and (marks<80):\n",
        "    print(\"you will be the part of a1 batch\")\n",
        "elif(marks>=40)and (marks<60):\n",
        "    print(\"you will be the part of a2 batch\")\n",
        "else:\n",
        "    print(\"you will be the part of a3 batch\")\n"
      ],
      "metadata": {
        "id": "sEUt9R14OkTw",
        "colab": {
          "base_uri": "https://localhost:8080/"
        },
        "outputId": "3a5d3470-ea18-4dd3-92ed-a94c7bec656f"
      },
      "execution_count": null,
      "outputs": [
        {
          "output_type": "stream",
          "name": "stdout",
          "text": [
            "enter your marks:--23\n",
            "you will be the part of a3 batch\n"
          ]
        }
      ]
    },
    {
      "cell_type": "code",
      "source": [
        "skills_require=input(\"enter your skills:- \")\n",
        "required_skills=[\"numpy\",\"pandas\",\"matplotlib\",\"seabon\"]\n",
        "if(skills_require == required_skills):\n",
        "    print(\"you will get the job\")\n",
        "else:\n",
        "    print(\"you are not eligible\")"
      ],
      "metadata": {
        "colab": {
          "base_uri": "https://localhost:8080/"
        },
        "id": "J9KKnBKXcNeM",
        "outputId": "e7959a1f-9852-48cc-8523-ef9aa2ab4834"
      },
      "execution_count": null,
      "outputs": [
        {
          "output_type": "stream",
          "name": "stdout",
          "text": [
            "enter your skills:- numpy\n",
            "you are not eligible\n"
          ]
        }
      ]
    },
    {
      "cell_type": "code",
      "source": [
        "# Taking input from the user and splitting it into a list of skills\n",
        "skills_require = input(\"Enter your skills (comma-separated): \").split(\",\")\n",
        "\n",
        "# Defining the required skills list\n",
        "required_skills = [\"numpy\", \"pandas\", \"matplotlib\", \"seaborn\"]\n",
        "\n",
        "# Checking if any of the input skills match the required skills\n",
        "if any(skill.strip().lower() in required_skills for skill in skills_require):\n",
        "    print(\"You will get the job\")\n",
        "else:\n",
        "    print(\"You are not eligible\")\n"
      ],
      "metadata": {
        "colab": {
          "base_uri": "https://localhost:8080/"
        },
        "id": "4eihud7rfmhy",
        "outputId": "11306290-13f6-404a-c22f-cf7edbef0c57"
      },
      "execution_count": null,
      "outputs": [
        {
          "output_type": "stream",
          "name": "stdout",
          "text": [
            "Enter your skills (comma-separated): numpy\n",
            "You will get the job\n"
          ]
        }
      ]
    },
    {
      "cell_type": "code",
      "source": [
        "balance=int(input(\"enter the balance on the your account:- \"))\n",
        "if(balance>100000):\n",
        "    print(\"alexa add apple to the cart\")\n",
        "else:\n",
        "    print(\"alexa not to ad aaple to the cart\")\n",
        "\n"
      ],
      "metadata": {
        "colab": {
          "base_uri": "https://localhost:8080/"
        },
        "id": "sdnzbUnHhFCj",
        "outputId": "9c7c3d59-71c4-4fdc-9782-09da1e3baff2"
      },
      "execution_count": null,
      "outputs": [
        {
          "output_type": "stream",
          "name": "stdout",
          "text": [
            "enter the balance on the your account:- 1200000\n",
            "alexa add apple to the cart\n"
          ]
        }
      ]
    },
    {
      "cell_type": "code",
      "source": [
        "if 1==01:\n",
        "    print('True')\n",
        "else:\n",
        "    print('False')"
      ],
      "metadata": {
        "colab": {
          "base_uri": "https://localhost:8080/",
          "height": 124
        },
        "id": "lAikdrPklxig",
        "outputId": "e4a0dfef-8d29-4258-b1e0-869dc5188d96"
      },
      "execution_count": null,
      "outputs": [
        {
          "output_type": "error",
          "ename": "SyntaxError",
          "evalue": "leading zeros in decimal integer literals are not permitted; use an 0o prefix for octal integers (<ipython-input-23-7fbbe8a536c3>, line 1)",
          "traceback": [
            "\u001b[0;36m  File \u001b[0;32m\"<ipython-input-23-7fbbe8a536c3>\"\u001b[0;36m, line \u001b[0;32m1\u001b[0m\n\u001b[0;31m    if 1==01:\u001b[0m\n\u001b[0m          ^\u001b[0m\n\u001b[0;31mSyntaxError\u001b[0m\u001b[0;31m:\u001b[0m leading zeros in decimal integer literals are not permitted; use an 0o prefix for octal integers\n"
          ]
        }
      ]
    },
    {
      "cell_type": "code",
      "source": [
        "l2=[]\n",
        "l1=[1,2,3,4,5,6,7,8]\n",
        "for i in l1:\n",
        "    print(i+1)\n",
        "    l2.append(i+1)"
      ],
      "metadata": {
        "colab": {
          "base_uri": "https://localhost:8080/"
        },
        "id": "-mAQnH01wLcY",
        "outputId": "505c45f3-6ee7-4235-ad26-f11e9a66dfeb"
      },
      "execution_count": 23,
      "outputs": [
        {
          "output_type": "stream",
          "name": "stdout",
          "text": [
            "2\n",
            "3\n",
            "4\n",
            "5\n",
            "6\n",
            "7\n",
            "8\n",
            "9\n"
          ]
        }
      ]
    },
    {
      "cell_type": "code",
      "source": [
        "l2"
      ],
      "metadata": {
        "colab": {
          "base_uri": "https://localhost:8080/"
        },
        "id": "sggvcutCzdnj",
        "outputId": "497771c8-5988-41d5-b9b9-237a64212e73"
      },
      "execution_count": 24,
      "outputs": [
        {
          "output_type": "execute_result",
          "data": {
            "text/plain": [
              "[2, 3, 4, 5, 6, 7, 8, 9]"
            ]
          },
          "metadata": {},
          "execution_count": 24
        }
      ]
    },
    {
      "cell_type": "code",
      "source": [
        "l=[\"subh\",\"kumar\",\"pwskills\",\"course\"]\n",
        "l1=[]\n",
        "\n",
        "for i in l:\n",
        "    print(i)\n",
        "    l1.append(i.upper())"
      ],
      "metadata": {
        "colab": {
          "base_uri": "https://localhost:8080/"
        },
        "id": "ASz-jl-C20WP",
        "outputId": "56ebabcf-42a9-48ba-ff0b-4db214a59ba5"
      },
      "execution_count": 35,
      "outputs": [
        {
          "output_type": "stream",
          "name": "stdout",
          "text": [
            "subh\n",
            "kumar\n",
            "pwskills\n",
            "course\n"
          ]
        },
        {
          "output_type": "execute_result",
          "data": {
            "text/plain": [
              "['SUBH', 'KUMAR', 'PWSKILLS', 'COURSE']"
            ]
          },
          "metadata": {},
          "execution_count": 35
        }
      ]
    },
    {
      "cell_type": "code",
      "source": [
        "l1"
      ],
      "metadata": {
        "id": "l7HfIZfe37u5",
        "colab": {
          "base_uri": "https://localhost:8080/"
        },
        "outputId": "2f0e26a9-77a2-4346-f57b-6fc86821b7c5"
      },
      "execution_count": 36,
      "outputs": [
        {
          "output_type": "execute_result",
          "data": {
            "text/plain": [
              "['SUBH', 'KUMAR', 'PWSKILLS', 'COURSE']"
            ]
          },
          "metadata": {},
          "execution_count": 36
        }
      ]
    },
    {
      "cell_type": "code",
      "source": [
        "l=[1,2,3,4,4,\"subh\",\"kumar\",324,34.456,\"abc\"]\n",
        "l_num=[]\n",
        "l_str=[]\n",
        "for i in l:\n",
        "    if type(i)==int or type(i)==float:\n",
        "        l_num.append(i)\n",
        "    else:\n",
        "        l_str.append(i)"
      ],
      "metadata": {
        "colab": {
          "base_uri": "https://localhost:8080/"
        },
        "id": "H2rXjS4Wwz0Q",
        "outputId": "482ec8e1-de4a-48ac-e179-1e9a14972c7f"
      },
      "execution_count": 38,
      "outputs": [
        {
          "output_type": "execute_result",
          "data": {
            "text/plain": [
              "['subh', 'kumar', 'abc']"
            ]
          },
          "metadata": {},
          "execution_count": 38
        }
      ]
    },
    {
      "cell_type": "code",
      "source": [
        "l_num"
      ],
      "metadata": {
        "colab": {
          "base_uri": "https://localhost:8080/"
        },
        "id": "h0REJ9YW2U0Z",
        "outputId": "077bb84f-e48b-459d-fd4b-3c2df60b7b11"
      },
      "execution_count": 39,
      "outputs": [
        {
          "output_type": "execute_result",
          "data": {
            "text/plain": [
              "[1, 2, 3, 4, 4, 324, 34.456]"
            ]
          },
          "metadata": {},
          "execution_count": 39
        }
      ]
    },
    {
      "cell_type": "code",
      "source": [
        "l_str"
      ],
      "metadata": {
        "colab": {
          "base_uri": "https://localhost:8080/"
        },
        "id": "i_DB4Qgx6g4D",
        "outputId": "29266637-bf6c-497f-f7d3-52fa0819cf87"
      },
      "execution_count": 40,
      "outputs": [
        {
          "output_type": "execute_result",
          "data": {
            "text/plain": [
              "['subh', 'kumar', 'abc']"
            ]
          },
          "metadata": {},
          "execution_count": 40
        }
      ]
    },
    {
      "cell_type": "code",
      "source": [
        ""
      ],
      "metadata": {
        "id": "E2r9OwRu6iGH"
      },
      "execution_count": null,
      "outputs": []
    }
  ]
}